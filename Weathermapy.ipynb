{
 "cells": [
  {
   "cell_type": "code",
   "execution_count": 1,
   "metadata": {},
   "outputs": [
    {
     "name": "stdout",
     "output_type": "stream",
     "text": [
      "C:\\Users\\omsairam\\Anaconda3\\python.exe\n"
     ]
    }
   ],
   "source": [
    "import sys\n",
    "print(sys.executable)"
   ]
  },
  {
   "cell_type": "code",
   "execution_count": 2,
   "metadata": {},
   "outputs": [],
   "source": [
    "#Dependencies\n",
    "import pandas as pd\n",
    "import numpy as np\n",
    "from citipy import citipy\n",
    "import  openweathermapy as ow\n",
    "import csv\n",
    "import matplotlib\n",
    "import seaborn\n",
    "import requests\n",
    "from pprint import pprint\n",
    "from config import api_key\n",
    "\n",
    " "
   ]
  },
  {
   "cell_type": "code",
   "execution_count": 3,
   "metadata": {
    "collapsed": true
   },
   "outputs": [],
   "source": [
    "#Cord=pd.dataframe()\n",
    "cord_lat =np.random.randint(0,900,1500)\n",
    "cord_lon =np.random.randint(0,180,1500)"
   ]
  },
  {
   "cell_type": "code",
   "execution_count": 4,
   "metadata": {
    "scrolled": true
   },
   "outputs": [
    {
     "ename": "NameError",
     "evalue": "name 'city_name' is not defined",
     "output_type": "error",
     "traceback": [
      "\u001b[1;31m---------------------------------------------------------------------------\u001b[0m",
      "\u001b[1;31mNameError\u001b[0m                                 Traceback (most recent call last)",
      "\u001b[1;32m<ipython-input-4-f320699824d8>\u001b[0m in \u001b[0;36m<module>\u001b[1;34m()\u001b[0m\n\u001b[0;32m     10\u001b[0m     \u001b[0mlon\u001b[0m \u001b[1;33m=\u001b[0m \u001b[0mcord_lon\u001b[0m\u001b[1;33m[\u001b[0m\u001b[0mx\u001b[0m\u001b[1;33m]\u001b[0m\u001b[1;33m\u001b[0m\u001b[0m\n\u001b[0;32m     11\u001b[0m     \u001b[0mresult\u001b[0m \u001b[1;33m=\u001b[0m \u001b[0mcitipy\u001b[0m\u001b[1;33m.\u001b[0m\u001b[0mnearest_city\u001b[0m\u001b[1;33m(\u001b[0m\u001b[0mlat\u001b[0m\u001b[1;33m,\u001b[0m\u001b[0mlon\u001b[0m\u001b[1;33m)\u001b[0m\u001b[1;33m\u001b[0m\u001b[0m\n\u001b[1;32m---> 12\u001b[1;33m     \u001b[0mcity_name\u001b[0m\u001b[1;33m.\u001b[0m\u001b[0mappend\u001b[0m\u001b[1;33m(\u001b[0m\u001b[0mresult\u001b[0m\u001b[1;33m.\u001b[0m\u001b[0mcity_name\u001b[0m\u001b[1;33m)\u001b[0m\u001b[1;33m\u001b[0m\u001b[0m\n\u001b[0m\u001b[0;32m     13\u001b[0m     \u001b[0mcountry\u001b[0m\u001b[1;33m.\u001b[0m\u001b[0mappend\u001b[0m\u001b[1;33m(\u001b[0m\u001b[0mresult\u001b[0m\u001b[1;33m.\u001b[0m\u001b[0mcountry_code\u001b[0m\u001b[1;33m)\u001b[0m\u001b[1;33m\u001b[0m\u001b[0m\n\u001b[0;32m     14\u001b[0m \u001b[1;33m\u001b[0m\u001b[0m\n",
      "\u001b[1;31mNameError\u001b[0m: name 'city_name' is not defined"
     ]
    }
   ],
   "source": [
    "#for loop\n",
    "citylist = []\n",
    "count = 0\n",
    "dup = 'no'\n",
    "country =[]\n",
    "weather_data = []\n",
    "\n",
    "for x in range(10):\n",
    "    lat = cord_lat[x]\n",
    "    lon = cord_lon[x]\n",
    "    result = citipy.nearest_city(lat,lon)\n",
    "    city_name.append(result.city_name)\n",
    "    country.append(result.country_code)\n",
    "    \n",
    "weather_data = {\"long\": lon ,\"lat\":lat,\"city\": city_name, \"county\": country}\n",
    "weather_data = pd.DataFrame(weather_data)\n",
    "#print(weather_data)\n",
    "\n",
    "for index, row in weather_data.iterrows():\n",
    "    lat = row['lat']\n",
    "    lng = row['long']\n",
    "    "
   ]
  },
  {
   "cell_type": "code",
   "execution_count": 5,
   "metadata": {},
   "outputs": [
    {
     "ename": "AttributeError",
     "evalue": "'list' object has no attribute 'iterrows'",
     "output_type": "error",
     "traceback": [
      "\u001b[1;31m---------------------------------------------------------------------------\u001b[0m",
      "\u001b[1;31mAttributeError\u001b[0m                            Traceback (most recent call last)",
      "\u001b[1;32m<ipython-input-5-28172d455f72>\u001b[0m in \u001b[0;36m<module>\u001b[1;34m()\u001b[0m\n\u001b[0;32m     13\u001b[0m \u001b[1;33m\u001b[0m\u001b[0m\n\u001b[0;32m     14\u001b[0m \u001b[1;33m\u001b[0m\u001b[0m\n\u001b[1;32m---> 15\u001b[1;33m \u001b[1;32mfor\u001b[0m \u001b[0mindex\u001b[0m \u001b[1;33m,\u001b[0m \u001b[0mrow\u001b[0m \u001b[1;32min\u001b[0m \u001b[0mweather_data\u001b[0m\u001b[1;33m.\u001b[0m\u001b[0miterrows\u001b[0m\u001b[1;33m(\u001b[0m\u001b[1;33m)\u001b[0m\u001b[1;33m:\u001b[0m\u001b[1;33m\u001b[0m\u001b[0m\n\u001b[0m\u001b[0;32m     16\u001b[0m     \u001b[0mprint\u001b[0m\u001b[1;33m(\u001b[0m\u001b[0mrow\u001b[0m\u001b[1;33m[\u001b[0m\u001b[1;34m'city'\u001b[0m\u001b[1;33m]\u001b[0m\u001b[1;33m)\u001b[0m\u001b[1;33m\u001b[0m\u001b[0m\n\u001b[0;32m     17\u001b[0m     \u001b[0mresponse\u001b[0m \u001b[1;33m=\u001b[0m \u001b[0mrequests\u001b[0m\u001b[1;33m.\u001b[0m\u001b[0mget\u001b[0m\u001b[1;33m(\u001b[0m\u001b[0mquery_url\u001b[0m \u001b[1;33m+\u001b[0m \u001b[0mrow\u001b[0m\u001b[1;33m[\u001b[0m\u001b[1;34m'city'\u001b[0m\u001b[1;33m]\u001b[0m\u001b[1;33m)\u001b[0m\u001b[1;33m.\u001b[0m\u001b[0mjson\u001b[0m\u001b[1;33m(\u001b[0m\u001b[1;33m)\u001b[0m\u001b[1;33m\u001b[0m\u001b[0m\n",
      "\u001b[1;31mAttributeError\u001b[0m: 'list' object has no attribute 'iterrows'"
     ]
    }
   ],
   "source": [
    "# Create a settings object with your API key and preferred units\n",
    "settings = {\"units\": \"metric\", \"appid\": api_key}\n",
    "\n",
    "# Save config information.\n",
    "url = \"http://api.openweathermap.org/data/2.5/weather?\"\n",
    "query_url = f\"{url}appid={api_key}&units={settings}&q=\"\n",
    "#query_url\n",
    "\n",
    "\n",
    "# list for response results\n",
    "\n",
    "summary = [\"main.temp\", \"coord.lat\", \"coord.lon\",\"clouds\",\"main.humidity\"]\n",
    "\n",
    "\n",
    "for index , row in weather_data.iterrows():\n",
    "    print(row['city'])\n",
    "    response = requests.get(query_url + row['city']).json()\n",
    "    weather_data['temp'] = response['main']['temp']\n",
    "    weather_data['clouds'] = response['clouds']['all']\n",
    "    weather_data['hum']= response['main']['humidity']\n",
    "    \n",
    "print(weather_data)\n",
    "\n",
    "#Create a Pandas DataFrame with the results\n",
    "data = [response(*summary) for response in weather_data]\n",
    "\n",
    "weather_data = pd.DataFrame(data, index=city_name)\n",
    "weather_data"
   ]
  },
  {
   "cell_type": "code",
   "execution_count": 6,
   "metadata": {},
   "outputs": [
    {
     "name": "stdout",
     "output_type": "stream",
     "text": [
      "Longitude: [-0.13, 2.35, -115.15, 18.07, 151.22, 114.16]\n",
      "Pressure: [1014, 1012, 1012, 1002, 1003, 1018]\n"
     ]
    }
   ],
   "source": [
    "# list of cities to query\n",
    "cities = [\"London\", \"Paris\", \"Las Vegas\", \"Stockholm\", \"Sydney\", \"Hong Kong\"]\n",
    "\n",
    "# list for response results\n",
    "lon = []\n",
    "pressure = []\n",
    "\n",
    "# loop through cities, make API request, and append desired results\n",
    "for city in cities:\n",
    "    response = requests.get(query_url + city).json()\n",
    "    lon.append(response['coord']['lon'])\n",
    "    pressure.append(response['main']['pressure'])\n",
    "\n",
    "print(f\"Longitude: {lon}\")\n",
    "print(f\"Pressure: {pressure}\")"
   ]
  },
  {
   "cell_type": "code",
   "execution_count": 7,
   "metadata": {},
   "outputs": [
    {
     "name": "stdout",
     "output_type": "stream",
     "text": [
      "The latitude information received is: 4\n",
      "The Latitude information received is: [-0.13, 2.35, -115.15, 18.07, 151.22, 114.16]\n"
     ]
    }
   ],
   "source": [
    "  # Loop through the list of cities and perform a request for data on each\n",
    "\n",
    "print(f\"The latitude information received is: {lat}\")\n",
    "print(f\"The Latitude information received is: {lon}\")"
   ]
  },
  {
   "cell_type": "code",
   "execution_count": 8,
   "metadata": {},
   "outputs": [
    {
     "ename": "NameError",
     "evalue": "name 'city_name' is not defined",
     "output_type": "error",
     "traceback": [
      "\u001b[1;31m---------------------------------------------------------------------------\u001b[0m",
      "\u001b[1;31mNameError\u001b[0m                                 Traceback (most recent call last)",
      "\u001b[1;32m<ipython-input-8-e565fa4af506>\u001b[0m in \u001b[0;36m<module>\u001b[1;34m()\u001b[0m\n\u001b[0;32m      1\u001b[0m \u001b[1;31m# create a data frame from cities, lat, and temp\u001b[0m\u001b[1;33m\u001b[0m\u001b[1;33m\u001b[0m\u001b[0m\n\u001b[0;32m      2\u001b[0m weather_dict = {\n\u001b[1;32m----> 3\u001b[1;33m     \u001b[1;34m\"city\"\u001b[0m\u001b[1;33m:\u001b[0m  \u001b[0mcity_name\u001b[0m\u001b[1;33m,\u001b[0m\u001b[1;33m\u001b[0m\u001b[0m\n\u001b[0m\u001b[0;32m      4\u001b[0m     \u001b[1;34m\"latitude\"\u001b[0m\u001b[1;33m:\u001b[0m \u001b[0mcord_lat\u001b[0m\u001b[1;33m,\u001b[0m\u001b[1;33m\u001b[0m\u001b[0m\n\u001b[0;32m      5\u001b[0m     \u001b[1;34m\"Longitude\"\u001b[0m\u001b[1;33m:\u001b[0m \u001b[0mloncord_lon\u001b[0m\u001b[1;33m\u001b[0m\u001b[0m\n",
      "\u001b[1;31mNameError\u001b[0m: name 'city_name' is not defined"
     ]
    }
   ],
   "source": [
    "# create a data frame from cities, lat, and temp\n",
    "weather_dict = {\n",
    "    \"city\":  city_name,\n",
    "    \"latitude\": cord_lat,\n",
    "    \"Longitude\": loncord_lon\n",
    "}\n",
    "weather_data = pd.DataFrame(weather_dict)\n",
    "weather_data.head()\n",
    "for index, row in weather_data.iterrows():\n",
    "  print(\"index -->\", index,\"city-->>\", row['city'])\n",
    "  print(\"lat -->\", ['lat'],\"lon-->>\", row['long'])\n"
   ]
  },
  {
   "cell_type": "code",
   "execution_count": null,
   "metadata": {
    "collapsed": true
   },
   "outputs": [],
   "source": []
  },
  {
   "cell_type": "code",
   "execution_count": null,
   "metadata": {
    "collapsed": true
   },
   "outputs": [],
   "source": []
  }
 ],
 "metadata": {
  "kernelspec": {
   "display_name": "Python 3",
   "language": "python",
   "name": "python3"
  },
  "language_info": {
   "codemirror_mode": {
    "name": "ipython",
    "version": 3
   },
   "file_extension": ".py",
   "mimetype": "text/x-python",
   "name": "python",
   "nbconvert_exporter": "python",
   "pygments_lexer": "ipython3",
   "version": "3.6.3"
  }
 },
 "nbformat": 4,
 "nbformat_minor": 2
}
